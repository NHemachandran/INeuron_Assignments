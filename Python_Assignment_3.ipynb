{
 "cells": [
  {
   "cell_type": "markdown",
   "metadata": {},
   "source": [
    "1.1 Write a Python Program to implement your own myreduce() function which works exactly like Python's built-in function reduce()"
   ]
  },
  {
   "cell_type": "code",
   "execution_count": 4,
   "metadata": {},
   "outputs": [
    {
     "name": "stdout",
     "output_type": "stream",
     "text": [
      "6\n",
      "100\n"
     ]
    }
   ],
   "source": [
    "def myreduce(anyFunction, anyList):\n",
    "    result = anyList[0]\n",
    "    for item in anyList[1:]:\n",
    "        result = anyFunction(result, item)\n",
    "    return result\n",
    "\n",
    "#test-case1\n",
    "def Summation(a,b):\n",
    "    return a+b\n",
    "\n",
    "print(myreduce(Summation,[1,2,3]))\n",
    "\n",
    "#test-case2:\n",
    "\n",
    "def BiggestNumber(a,b):\n",
    "    if(a>b):\n",
    "        return a\n",
    "    else:\n",
    "        return b\n",
    "\n",
    "print(myreduce(BiggestNumber,[10,3,40,2,100,20]))"
   ]
  },
  {
   "cell_type": "markdown",
   "metadata": {},
   "source": [
    "1.2 Write a Python program to implement your own myfilter() function which works exactly\n",
    "like Python's built-in function filter()"
   ]
  },
  {
   "cell_type": "code",
   "execution_count": 6,
   "metadata": {},
   "outputs": [
    {
     "name": "stdout",
     "output_type": "stream",
     "text": [
      "[1, 4]\n"
     ]
    }
   ],
   "source": [
    "def myfilter(anyFunction, anyList):\n",
    "    result = []\n",
    "    for item in anyList:\n",
    "        if anyFunction(item):\n",
    "            result.append(item)\n",
    "    return result\n",
    "\n",
    "#test Case 1\n",
    "\n",
    "def Checkpositive(x):\n",
    "    if (x <= 0): \n",
    "          return False \n",
    "    else: \n",
    "          return True\n",
    "        \n",
    "print(myfilter(Checkpositive,[1,-1,-2,-3,4]))"
   ]
  },
  {
   "cell_type": "markdown",
   "metadata": {},
   "source": [
    "2. Implement List comprehensions to produce the following lists.\n",
    "Write List comprehensions to produce the following Lists\n",
    "\n",
    "['x', 'xx', 'xxx', 'xxxx', 'y', 'yy', 'yyy', 'yyyy', 'z', 'zz', 'zzz', 'zzzz']\n",
    "\n",
    "['x', 'y', 'z', 'xx', 'yy', 'zz', 'xxx', 'yyy', 'zzz', 'xxxx', 'yyyy', 'zzzz']\n",
    "\n",
    "[(1, 1), (2, 1), (3, 1), (1, 2), (2, 2), (3, 2), (1, 3), (2, 3), (3, 3)]\n",
    "\n",
    "\n",
    "\n",
    "[[2], [3], [4], [3], [4], [5], [4], [5], [6]] \n",
    "\n",
    "[[2, 3, 4, 5], [3, 4, 5, 6],[[4, 5, 6, 7], [5, 6, 7, 8]]\n"
   ]
  },
  {
   "cell_type": "code",
   "execution_count": 1,
   "metadata": {},
   "outputs": [
    {
     "name": "stdout",
     "output_type": "stream",
     "text": [
      "['x', 'xx', 'xxx', 'xxxx', 'y', 'yy', 'yyy', 'yyyy', 'z', 'zz', 'zzz', 'zzzz']\n",
      "['x', 'y', 'z', 'xx', 'yy', 'zz', 'xxx', 'yyy', 'zzz', 'xxxx', 'yyyy', 'zzzz']\n",
      "[(1, 1), (2, 1), (3, 1), (1, 2), (2, 2), (3, 2), (1, 3), (2, 3), (3, 3)]\n",
      "[[2], [3], [4], [3], [4], [5], [4], [5], [6]]\n",
      "[[2, 3, 4, 5], [3, 4, 5, 6], [4, 5, 6, 7], [5, 6, 7, 8]]\n"
     ]
    }
   ],
   "source": [
    "first=['x','y','z']\n",
    "output1=[i*j for i in first for j in range(1,5)]\n",
    "print(output1)\n",
    "\n",
    "output2=[i*j for j in range(1,5) for i in first ]\n",
    "print(output2)\n",
    "\n",
    "lst=[1,2,3]\n",
    "output3=[(j,i) for i in lst for j in lst]\n",
    "print(output3)\n",
    "\n",
    "\n",
    "lst3=[2,3,4]\n",
    "output5=[[i+j] for i in lst3 for j in range(0,3)]\n",
    "print(output5)\n",
    "\n",
    "lst4=[2,3,4,5]\n",
    "output6= [[i+j for i in lst4] for j in range(0,4)]\n",
    "print(output6)"
   ]
  },
  {
   "cell_type": "code",
   "execution_count": null,
   "metadata": {},
   "outputs": [],
   "source": []
  }
 ],
 "metadata": {
  "kernelspec": {
   "display_name": "Python 3",
   "language": "python",
   "name": "python3"
  },
  "language_info": {
   "codemirror_mode": {
    "name": "ipython",
    "version": 3
   },
   "file_extension": ".py",
   "mimetype": "text/x-python",
   "name": "python",
   "nbconvert_exporter": "python",
   "pygments_lexer": "ipython3",
   "version": "3.7.1"
  }
 },
 "nbformat": 4,
 "nbformat_minor": 4
}
